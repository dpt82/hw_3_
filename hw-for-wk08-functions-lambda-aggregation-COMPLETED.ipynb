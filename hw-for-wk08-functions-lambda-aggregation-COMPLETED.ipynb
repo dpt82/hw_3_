{
 "cells": [
  {
   "cell_type": "markdown",
   "id": "323e077d",
   "metadata": {},
   "source": [
    "## Q. 1 - Defined Functions\n",
    "\n",
    "Build a function that takes a dollar amoount from a previous year and returns its value in 2023 dollars rounded to ONE decimal places.\n",
    "\n",
    "To accomplish this, you will need to know the formula for converting old dollar amounts to a more current value (hint: you will need to know the CPI conversion formula).\n",
    "\n",
    "The most recent full-year CPI is for 2023 at `304.7`. Here's the <a href=\"https://github.com/sandeepmj/datasets/blob/main/cpi-to-2023.csv\">CPI for previous years</a>.\n",
    "\n",
    "**Important Note**: At this time, you will need to manually insert the old year CPI as an argument for a parameter. \n"
   ]
  },
  {
   "cell_type": "code",
   "execution_count": 1,
   "id": "cf960ab8",
   "metadata": {},
   "outputs": [
    {
     "data": {
      "text/html": [
       "<div>\n",
       "<style scoped>\n",
       "    .dataframe tbody tr th:only-of-type {\n",
       "        vertical-align: middle;\n",
       "    }\n",
       "\n",
       "    .dataframe tbody tr th {\n",
       "        vertical-align: top;\n",
       "    }\n",
       "\n",
       "    .dataframe thead th {\n",
       "        text-align: right;\n",
       "    }\n",
       "</style>\n",
       "<table border=\"1\" class=\"dataframe\">\n",
       "  <thead>\n",
       "    <tr style=\"text-align: right;\">\n",
       "      <th></th>\n",
       "      <th>year</th>\n",
       "      <th>annual average cpi (CPI-U)</th>\n",
       "    </tr>\n",
       "  </thead>\n",
       "  <tbody>\n",
       "    <tr>\n",
       "      <th>0</th>\n",
       "      <td>1913</td>\n",
       "      <td>9.900</td>\n",
       "    </tr>\n",
       "    <tr>\n",
       "      <th>1</th>\n",
       "      <td>1914</td>\n",
       "      <td>10.000</td>\n",
       "    </tr>\n",
       "    <tr>\n",
       "      <th>2</th>\n",
       "      <td>1915</td>\n",
       "      <td>10.100</td>\n",
       "    </tr>\n",
       "    <tr>\n",
       "      <th>3</th>\n",
       "      <td>1916</td>\n",
       "      <td>10.900</td>\n",
       "    </tr>\n",
       "    <tr>\n",
       "      <th>4</th>\n",
       "      <td>1917</td>\n",
       "      <td>12.800</td>\n",
       "    </tr>\n",
       "    <tr>\n",
       "      <th>...</th>\n",
       "      <td>...</td>\n",
       "      <td>...</td>\n",
       "    </tr>\n",
       "    <tr>\n",
       "      <th>106</th>\n",
       "      <td>2019</td>\n",
       "      <td>255.657</td>\n",
       "    </tr>\n",
       "    <tr>\n",
       "      <th>107</th>\n",
       "      <td>2020</td>\n",
       "      <td>258.811</td>\n",
       "    </tr>\n",
       "    <tr>\n",
       "      <th>108</th>\n",
       "      <td>2021</td>\n",
       "      <td>270.970</td>\n",
       "    </tr>\n",
       "    <tr>\n",
       "      <th>109</th>\n",
       "      <td>2022</td>\n",
       "      <td>292.655</td>\n",
       "    </tr>\n",
       "    <tr>\n",
       "      <th>110</th>\n",
       "      <td>2023</td>\n",
       "      <td>304.700</td>\n",
       "    </tr>\n",
       "  </tbody>\n",
       "</table>\n",
       "<p>111 rows × 2 columns</p>\n",
       "</div>"
      ],
      "text/plain": [
       "     year  annual average cpi (CPI-U)\n",
       "0    1913                       9.900\n",
       "1    1914                      10.000\n",
       "2    1915                      10.100\n",
       "3    1916                      10.900\n",
       "4    1917                      12.800\n",
       "..    ...                         ...\n",
       "106  2019                     255.657\n",
       "107  2020                     258.811\n",
       "108  2021                     270.970\n",
       "109  2022                     292.655\n",
       "110  2023                     304.700\n",
       "\n",
       "[111 rows x 2 columns]"
      ]
     },
     "execution_count": 1,
     "metadata": {},
     "output_type": "execute_result"
    }
   ],
   "source": [
    "import pandas as pd\n",
    "df = pd.read_csv(\"https://raw.githubusercontent.com/sandeepmj/datasets/main/cpi-to-2023.csv\")\n",
    "df\n"
   ]
  },
  {
   "cell_type": "code",
   "execution_count": 2,
   "id": "ae4141d0",
   "metadata": {},
   "outputs": [
    {
     "data": {
      "text/html": [
       "<div>\n",
       "<style scoped>\n",
       "    .dataframe tbody tr th:only-of-type {\n",
       "        vertical-align: middle;\n",
       "    }\n",
       "\n",
       "    .dataframe tbody tr th {\n",
       "        vertical-align: top;\n",
       "    }\n",
       "\n",
       "    .dataframe thead th {\n",
       "        text-align: right;\n",
       "    }\n",
       "</style>\n",
       "<table border=\"1\" class=\"dataframe\">\n",
       "  <thead>\n",
       "    <tr style=\"text-align: right;\">\n",
       "      <th></th>\n",
       "      <th>year</th>\n",
       "      <th>annual average cpi (CPI-U)</th>\n",
       "    </tr>\n",
       "  </thead>\n",
       "  <tbody>\n",
       "    <tr>\n",
       "      <th>106</th>\n",
       "      <td>2019</td>\n",
       "      <td>255.657</td>\n",
       "    </tr>\n",
       "    <tr>\n",
       "      <th>107</th>\n",
       "      <td>2020</td>\n",
       "      <td>258.811</td>\n",
       "    </tr>\n",
       "    <tr>\n",
       "      <th>108</th>\n",
       "      <td>2021</td>\n",
       "      <td>270.970</td>\n",
       "    </tr>\n",
       "    <tr>\n",
       "      <th>109</th>\n",
       "      <td>2022</td>\n",
       "      <td>292.655</td>\n",
       "    </tr>\n",
       "    <tr>\n",
       "      <th>110</th>\n",
       "      <td>2023</td>\n",
       "      <td>304.700</td>\n",
       "    </tr>\n",
       "  </tbody>\n",
       "</table>\n",
       "</div>"
      ],
      "text/plain": [
       "     year  annual average cpi (CPI-U)\n",
       "106  2019                     255.657\n",
       "107  2020                     258.811\n",
       "108  2021                     270.970\n",
       "109  2022                     292.655\n",
       "110  2023                     304.700"
      ]
     },
     "execution_count": 2,
     "metadata": {},
     "output_type": "execute_result"
    }
   ],
   "source": [
    "#Gather Index Positions\n",
    "df.tail()"
   ]
  },
  {
   "cell_type": "code",
   "execution_count": 3,
   "id": "158b49ca",
   "metadata": {},
   "outputs": [
    {
     "data": {
      "text/plain": [
       "12.8"
      ]
     },
     "execution_count": 3,
     "metadata": {},
     "output_type": "execute_result"
    }
   ],
   "source": [
    "#Name Variable for current cpi values from 1917\n",
    "older_cpi = df[\"annual average cpi (CPI-U)\"].iloc[4]\n",
    "older_cpi\n"
   ]
  },
  {
   "cell_type": "code",
   "execution_count": 4,
   "id": "86d92050",
   "metadata": {},
   "outputs": [
    {
     "data": {
      "text/plain": [
       "304.7"
      ]
     },
     "execution_count": 4,
     "metadata": {},
     "output_type": "execute_result"
    }
   ],
   "source": [
    "#Name Variable for current cpi\n",
    "newest_cpi = df[\"annual average cpi (CPI-U)\"].iloc[110]\n",
    "newest_cpi"
   ]
  },
  {
   "cell_type": "code",
   "execution_count": 5,
   "id": "c4d523ed",
   "metadata": {},
   "outputs": [],
   "source": [
    "#Create the function for the calculation from 1917-2023\n",
    "def value_change(amount):\n",
    "    return (amount / older_cpi) * newest_cpi"
   ]
  },
  {
   "cell_type": "code",
   "execution_count": 6,
   "id": "d1a40a0c",
   "metadata": {},
   "outputs": [
    {
     "data": {
      "text/plain": [
       "'$100 in 1917 is equal to $2380.5 in 2023'"
      ]
     },
     "execution_count": 6,
     "metadata": {},
     "output_type": "execute_result"
    }
   ],
   "source": [
    "#Calculate the difference in value for $100 in 1917 to 2023.\n",
    "vc = value_change(100)\n",
    "vc_rounded = round(vc, 1)\n",
    "f'$100 in 1917 is equal to ${vc_rounded} in 2023'\n"
   ]
  },
  {
   "cell_type": "code",
   "execution_count": 7,
   "id": "f392e196",
   "metadata": {},
   "outputs": [
    {
     "data": {
      "text/html": [
       "<div>\n",
       "<style scoped>\n",
       "    .dataframe tbody tr th:only-of-type {\n",
       "        vertical-align: middle;\n",
       "    }\n",
       "\n",
       "    .dataframe tbody tr th {\n",
       "        vertical-align: top;\n",
       "    }\n",
       "\n",
       "    .dataframe thead th {\n",
       "        text-align: right;\n",
       "    }\n",
       "</style>\n",
       "<table border=\"1\" class=\"dataframe\">\n",
       "  <thead>\n",
       "    <tr style=\"text-align: right;\">\n",
       "      <th></th>\n",
       "      <th>year</th>\n",
       "      <th>annual average cpi (CPI-U)</th>\n",
       "    </tr>\n",
       "  </thead>\n",
       "  <tbody>\n",
       "    <tr>\n",
       "      <th>0</th>\n",
       "      <td>1913</td>\n",
       "      <td>9.9</td>\n",
       "    </tr>\n",
       "    <tr>\n",
       "      <th>1</th>\n",
       "      <td>1914</td>\n",
       "      <td>10.0</td>\n",
       "    </tr>\n",
       "    <tr>\n",
       "      <th>2</th>\n",
       "      <td>1915</td>\n",
       "      <td>10.1</td>\n",
       "    </tr>\n",
       "    <tr>\n",
       "      <th>3</th>\n",
       "      <td>1916</td>\n",
       "      <td>10.9</td>\n",
       "    </tr>\n",
       "    <tr>\n",
       "      <th>4</th>\n",
       "      <td>1917</td>\n",
       "      <td>12.8</td>\n",
       "    </tr>\n",
       "    <tr>\n",
       "      <th>5</th>\n",
       "      <td>1918</td>\n",
       "      <td>15.1</td>\n",
       "    </tr>\n",
       "    <tr>\n",
       "      <th>6</th>\n",
       "      <td>1919</td>\n",
       "      <td>17.3</td>\n",
       "    </tr>\n",
       "    <tr>\n",
       "      <th>7</th>\n",
       "      <td>1920</td>\n",
       "      <td>20.0</td>\n",
       "    </tr>\n",
       "    <tr>\n",
       "      <th>8</th>\n",
       "      <td>1921</td>\n",
       "      <td>17.9</td>\n",
       "    </tr>\n",
       "    <tr>\n",
       "      <th>9</th>\n",
       "      <td>1922</td>\n",
       "      <td>16.8</td>\n",
       "    </tr>\n",
       "    <tr>\n",
       "      <th>10</th>\n",
       "      <td>1923</td>\n",
       "      <td>17.1</td>\n",
       "    </tr>\n",
       "    <tr>\n",
       "      <th>11</th>\n",
       "      <td>1924</td>\n",
       "      <td>17.1</td>\n",
       "    </tr>\n",
       "    <tr>\n",
       "      <th>12</th>\n",
       "      <td>1925</td>\n",
       "      <td>17.5</td>\n",
       "    </tr>\n",
       "    <tr>\n",
       "      <th>13</th>\n",
       "      <td>1926</td>\n",
       "      <td>17.7</td>\n",
       "    </tr>\n",
       "    <tr>\n",
       "      <th>14</th>\n",
       "      <td>1927</td>\n",
       "      <td>17.4</td>\n",
       "    </tr>\n",
       "    <tr>\n",
       "      <th>15</th>\n",
       "      <td>1928</td>\n",
       "      <td>17.1</td>\n",
       "    </tr>\n",
       "    <tr>\n",
       "      <th>16</th>\n",
       "      <td>1929</td>\n",
       "      <td>17.1</td>\n",
       "    </tr>\n",
       "    <tr>\n",
       "      <th>17</th>\n",
       "      <td>1930</td>\n",
       "      <td>16.7</td>\n",
       "    </tr>\n",
       "    <tr>\n",
       "      <th>18</th>\n",
       "      <td>1931</td>\n",
       "      <td>15.2</td>\n",
       "    </tr>\n",
       "    <tr>\n",
       "      <th>19</th>\n",
       "      <td>1932</td>\n",
       "      <td>13.7</td>\n",
       "    </tr>\n",
       "    <tr>\n",
       "      <th>20</th>\n",
       "      <td>1933</td>\n",
       "      <td>13.0</td>\n",
       "    </tr>\n",
       "    <tr>\n",
       "      <th>21</th>\n",
       "      <td>1934</td>\n",
       "      <td>13.4</td>\n",
       "    </tr>\n",
       "    <tr>\n",
       "      <th>22</th>\n",
       "      <td>1935</td>\n",
       "      <td>13.7</td>\n",
       "    </tr>\n",
       "    <tr>\n",
       "      <th>23</th>\n",
       "      <td>1936</td>\n",
       "      <td>13.9</td>\n",
       "    </tr>\n",
       "    <tr>\n",
       "      <th>24</th>\n",
       "      <td>1937</td>\n",
       "      <td>14.4</td>\n",
       "    </tr>\n",
       "    <tr>\n",
       "      <th>25</th>\n",
       "      <td>1938</td>\n",
       "      <td>14.1</td>\n",
       "    </tr>\n",
       "    <tr>\n",
       "      <th>26</th>\n",
       "      <td>1939</td>\n",
       "      <td>13.9</td>\n",
       "    </tr>\n",
       "    <tr>\n",
       "      <th>27</th>\n",
       "      <td>1940</td>\n",
       "      <td>14.0</td>\n",
       "    </tr>\n",
       "    <tr>\n",
       "      <th>28</th>\n",
       "      <td>1941</td>\n",
       "      <td>14.7</td>\n",
       "    </tr>\n",
       "    <tr>\n",
       "      <th>29</th>\n",
       "      <td>1942</td>\n",
       "      <td>16.3</td>\n",
       "    </tr>\n",
       "  </tbody>\n",
       "</table>\n",
       "</div>"
      ],
      "text/plain": [
       "    year  annual average cpi (CPI-U)\n",
       "0   1913                         9.9\n",
       "1   1914                        10.0\n",
       "2   1915                        10.1\n",
       "3   1916                        10.9\n",
       "4   1917                        12.8\n",
       "5   1918                        15.1\n",
       "6   1919                        17.3\n",
       "7   1920                        20.0\n",
       "8   1921                        17.9\n",
       "9   1922                        16.8\n",
       "10  1923                        17.1\n",
       "11  1924                        17.1\n",
       "12  1925                        17.5\n",
       "13  1926                        17.7\n",
       "14  1927                        17.4\n",
       "15  1928                        17.1\n",
       "16  1929                        17.1\n",
       "17  1930                        16.7\n",
       "18  1931                        15.2\n",
       "19  1932                        13.7\n",
       "20  1933                        13.0\n",
       "21  1934                        13.4\n",
       "22  1935                        13.7\n",
       "23  1936                        13.9\n",
       "24  1937                        14.4\n",
       "25  1938                        14.1\n",
       "26  1939                        13.9\n",
       "27  1940                        14.0\n",
       "28  1941                        14.7\n",
       "29  1942                        16.3"
      ]
     },
     "execution_count": 7,
     "metadata": {},
     "output_type": "execute_result"
    }
   ],
   "source": [
    "# Gather index positions for next question (calculate difference for a few differen years).\n",
    "df.head(30)"
   ]
  },
  {
   "cell_type": "code",
   "execution_count": 8,
   "id": "029b739f",
   "metadata": {},
   "outputs": [],
   "source": [
    "#Name Variables for other years\n",
    "other_years_0 = df[\"annual average cpi (CPI-U)\"].iloc[4] #1917\n",
    "other_years_1 = df[\"annual average cpi (CPI-U)\"].iloc[0] #1913\n",
    "other_years_2 = df[\"annual average cpi (CPI-U)\"].iloc[9] #1922\n",
    "other_years_3 = df[\"annual average cpi (CPI-U)\"].iloc[13] #1926\n",
    "other_years_4 = df[\"annual average cpi (CPI-U)\"].iloc[17] #1930\n",
    "other_years_5 = df[\"annual average cpi (CPI-U)\"].iloc[26] #1939\n",
    "other_years_6 = df[\"annual average cpi (CPI-U)\"].iloc[28] #1941\n",
    "other_years_7 = df[\"annual average cpi (CPI-U)\"].iloc[29] #1942\n"
   ]
  },
  {
   "cell_type": "code",
   "execution_count": 9,
   "id": "1ebe5e42",
   "metadata": {},
   "outputs": [
    {
     "name": "stdout",
     "output_type": "stream",
     "text": [
      "$100 in 1913 is equal to $3077.8 in 2023,\n",
      "$100 in 1922 is equal to $1813.7 in 2023\n",
      "$100 in 1926 is equal to $1721.5 in 2023\n"
     ]
    }
   ],
   "source": [
    "## test it here on  1913, 1922 and 1926\n",
    "def value_change(amount, year):\n",
    "    return (amount / year) * newest_cpi\n",
    "\n",
    "nineteen_thirteen = (value_change(100, other_years_1))\n",
    "rounded_1 = round(nineteen_thirteen, 1)\n",
    "print(f'$100 in 1913 is equal to ${rounded_1} in 2023,')\n",
    "\n",
    "## test it here on a few previous years \n",
    "nineteen_twenty_two = (value_change(100, other_years_2))\n",
    "rounded_2 = round(nineteen_twenty_two, 1)\n",
    "print(f'$100 in 1922 is equal to ${rounded_2} in 2023')\n",
    "\n",
    "nineteen_twenty_six = (value_change(100, other_years_3))\n",
    "rounded_3 = round(nineteen_twenty_six, 1)\n",
    "print(f'$100 in 1926 is equal to ${rounded_3} in 2023')\n",
    "\n",
    "\n"
   ]
  },
  {
   "cell_type": "code",
   "execution_count": 10,
   "id": "0f37660b",
   "metadata": {},
   "outputs": [
    {
     "name": "stdout",
     "output_type": "stream",
     "text": [
      "$100 in 1939 is equal to $2192.1 in 2023,\n",
      "$100 in 1941 is equal to $2072.8 in 2023\n",
      "$100 in 1942 is equal to $1869.3 in 2023\n"
     ]
    }
   ],
   "source": [
    "## test it here on 1939-1942\n",
    "\n",
    "nineteen_thirty_nine = (value_change(100, other_years_5))\n",
    "rounded_4 = round(nineteen_thirty_nine, 1)\n",
    "print(f'$100 in 1939 is equal to ${rounded_4} in 2023,')\n",
    "\n",
    "nineteen_forty_one = (value_change(100, other_years_6))\n",
    "rounded_5 = round(nineteen_forty_one, 1)\n",
    "print(f'$100 in 1941 is equal to ${rounded_5} in 2023')\n",
    "\n",
    "nineteen_forty_two = (value_change(100, other_years_7))\n",
    "rounded_6 = round(nineteen_forty_two, 1)\n",
    "print(f'$100 in 1942 is equal to ${rounded_6} in 2023')\n"
   ]
  },
  {
   "cell_type": "markdown",
   "id": "77eb5632",
   "metadata": {},
   "source": [
    "## Q. 2 - Movie Sales\n",
    "\n",
    "Here is the  <a href=\"https://github.com/sandeepmj/datasets/blob/main/movie-sales.csv\">repo that holds the top movies by release-year sales</a> for each year going back to 1995.\n",
    "\n",
    "Which are the 5 movies that grossed the most in the year they were released? "
   ]
  },
  {
   "cell_type": "code",
   "execution_count": 11,
   "id": "e63d15dd",
   "metadata": {},
   "outputs": [],
   "source": [
    "# Import the Data\n",
    "movie_df = pd.read_csv(\"https://raw.githubusercontent.com/sandeepmj/datasets/main/movie-sales.csv\")"
   ]
  },
  {
   "cell_type": "code",
   "execution_count": 17,
   "id": "74180c5f",
   "metadata": {},
   "outputs": [
    {
     "data": {
      "text/html": [
       "<div>\n",
       "<style scoped>\n",
       "    .dataframe tbody tr th:only-of-type {\n",
       "        vertical-align: middle;\n",
       "    }\n",
       "\n",
       "    .dataframe tbody tr th {\n",
       "        vertical-align: top;\n",
       "    }\n",
       "\n",
       "    .dataframe thead th {\n",
       "        text-align: right;\n",
       "    }\n",
       "</style>\n",
       "<table border=\"1\" class=\"dataframe\">\n",
       "  <thead>\n",
       "    <tr style=\"text-align: right;\">\n",
       "      <th></th>\n",
       "      <th>title</th>\n",
       "      <th>release_year_total</th>\n",
       "    </tr>\n",
       "  </thead>\n",
       "  <tbody>\n",
       "    <tr>\n",
       "      <th>24</th>\n",
       "      <td>Avengers: Endgame</td>\n",
       "      <td>858373000</td>\n",
       "    </tr>\n",
       "    <tr>\n",
       "      <th>20</th>\n",
       "      <td>Star Wars Ep. VII: The Force Awakens</td>\n",
       "      <td>742208942</td>\n",
       "    </tr>\n",
       "    <tr>\n",
       "      <th>27</th>\n",
       "      <td>Top Gun: Maverick</td>\n",
       "      <td>718732821</td>\n",
       "    </tr>\n",
       "    <tr>\n",
       "      <th>23</th>\n",
       "      <td>Black Panther</td>\n",
       "      <td>700059566</td>\n",
       "    </tr>\n",
       "    <tr>\n",
       "      <th>28</th>\n",
       "      <td>Barbie</td>\n",
       "      <td>636225983</td>\n",
       "    </tr>\n",
       "  </tbody>\n",
       "</table>\n",
       "</div>"
      ],
      "text/plain": [
       "                                   title  release_year_total\n",
       "24                     Avengers: Endgame           858373000\n",
       "20  Star Wars Ep. VII: The Force Awakens           742208942\n",
       "27                     Top Gun: Maverick           718732821\n",
       "23                         Black Panther           700059566\n",
       "28                                Barbie           636225983"
      ]
     },
     "execution_count": 17,
     "metadata": {},
     "output_type": "execute_result"
    }
   ],
   "source": [
    "#Display the top 5 highest grossing films, in the year they were released\n",
    "movie_df[[\"title\", \"release_year_total\"]].sort_values(by=\"release_year_total\", ascending=False).head(5)\n"
   ]
  },
  {
   "cell_type": "markdown",
   "id": "a866a79d",
   "metadata": {},
   "source": [
    "## Q. 3 Challenge\n",
    "\n",
    "Can you figure out another way to get only the top 5?"
   ]
  },
  {
   "cell_type": "code",
   "execution_count": 13,
   "id": "e446312c",
   "metadata": {},
   "outputs": [
    {
     "data": {
      "text/html": [
       "<div>\n",
       "<style scoped>\n",
       "    .dataframe tbody tr th:only-of-type {\n",
       "        vertical-align: middle;\n",
       "    }\n",
       "\n",
       "    .dataframe tbody tr th {\n",
       "        vertical-align: top;\n",
       "    }\n",
       "\n",
       "    .dataframe thead th {\n",
       "        text-align: right;\n",
       "    }\n",
       "</style>\n",
       "<table border=\"1\" class=\"dataframe\">\n",
       "  <thead>\n",
       "    <tr style=\"text-align: right;\">\n",
       "      <th></th>\n",
       "      <th>release_year</th>\n",
       "      <th>title</th>\n",
       "      <th>rating</th>\n",
       "      <th>studio</th>\n",
       "      <th>release_year_total</th>\n",
       "      <th>release_yr_tickets</th>\n",
       "      <th>cpi</th>\n",
       "    </tr>\n",
       "  </thead>\n",
       "  <tbody>\n",
       "    <tr>\n",
       "      <th>24</th>\n",
       "      <td>2019</td>\n",
       "      <td>Avengers: Endgame</td>\n",
       "      <td>PG-13</td>\n",
       "      <td>Walt Disney</td>\n",
       "      <td>858373000</td>\n",
       "      <td>93708843</td>\n",
       "      <td>255.657</td>\n",
       "    </tr>\n",
       "    <tr>\n",
       "      <th>20</th>\n",
       "      <td>2015</td>\n",
       "      <td>Star Wars Ep. VII: The Force Awakens</td>\n",
       "      <td>PG-13</td>\n",
       "      <td>Walt Disney</td>\n",
       "      <td>742208942</td>\n",
       "      <td>88043765</td>\n",
       "      <td>237.017</td>\n",
       "    </tr>\n",
       "    <tr>\n",
       "      <th>27</th>\n",
       "      <td>2022</td>\n",
       "      <td>Top Gun: Maverick</td>\n",
       "      <td>PG-13</td>\n",
       "      <td>Paramount Pictures</td>\n",
       "      <td>718732821</td>\n",
       "      <td>68255728</td>\n",
       "      <td>292.655</td>\n",
       "    </tr>\n",
       "    <tr>\n",
       "      <th>23</th>\n",
       "      <td>2018</td>\n",
       "      <td>Black Panther</td>\n",
       "      <td>PG-13</td>\n",
       "      <td>Walt Disney</td>\n",
       "      <td>700059566</td>\n",
       "      <td>76845177</td>\n",
       "      <td>251.107</td>\n",
       "    </tr>\n",
       "    <tr>\n",
       "      <th>28</th>\n",
       "      <td>2023</td>\n",
       "      <td>Barbie</td>\n",
       "      <td>PG-13</td>\n",
       "      <td>Warner Bros.</td>\n",
       "      <td>636225983</td>\n",
       "      <td>59019108</td>\n",
       "      <td>304.700</td>\n",
       "    </tr>\n",
       "  </tbody>\n",
       "</table>\n",
       "</div>"
      ],
      "text/plain": [
       "    release_year                                 title rating  \\\n",
       "24          2019                     Avengers: Endgame  PG-13   \n",
       "20          2015  Star Wars Ep. VII: The Force Awakens  PG-13   \n",
       "27          2022                     Top Gun: Maverick  PG-13   \n",
       "23          2018                         Black Panther  PG-13   \n",
       "28          2023                                Barbie  PG-13   \n",
       "\n",
       "                studio  release_year_total  release_yr_tickets      cpi  \n",
       "24         Walt Disney           858373000            93708843  255.657  \n",
       "20         Walt Disney           742208942            88043765  237.017  \n",
       "27  Paramount Pictures           718732821            68255728  292.655  \n",
       "23         Walt Disney           700059566            76845177  251.107  \n",
       "28        Warner Bros.           636225983            59019108  304.700  "
      ]
     },
     "execution_count": 13,
     "metadata": {},
     "output_type": "execute_result"
    }
   ],
   "source": [
    "## code it here\n",
    "movie_df.sort_values(by=\"release_year_total\", ascending=False).head(5)\n"
   ]
  },
  {
   "cell_type": "markdown",
   "id": "ae8a7540",
   "metadata": {},
   "source": [
    "## Q. 4 What was the median since 1995 (inflation adjusted)\n",
    "\n",
    "Place in a sentence with pleasing formating.\n"
   ]
  },
  {
   "cell_type": "code",
   "execution_count": 14,
   "id": "9edde783",
   "metadata": {},
   "outputs": [
    {
     "data": {
      "text/plain": [
       "'The median amount earned from movie ticket sales since 1995 was $415,004,880'"
      ]
     },
     "execution_count": 14,
     "metadata": {},
     "output_type": "execute_result"
    }
   ],
   "source": [
    "median_grossed = f'The median amount earned from movie ticket sales since 1995 was ${movie_df[\"release_year_total\"].median():,.0f}'\n",
    "median_grossed"
   ]
  },
  {
   "cell_type": "code",
   "execution_count": 15,
   "id": "f92ab3f0",
   "metadata": {},
   "outputs": [
    {
     "name": "stdout",
     "output_type": "stream",
     "text": [
      "Movie ticket sales from 1995 are worth $12,772,927,973 in 2023,\n"
     ]
    }
   ],
   "source": [
    "def inflation_change(amount, movie_cpi, newest_cpi):\n",
    "    movie_cpi = df[\"annual average cpi (CPI-U)\"].iloc[0]\n",
    "    newest_cpi = df[\"annual average cpi (CPI-U)\"].iloc[-1]\n",
    "    return (amount / movie_cpi) * newest_cpi\n",
    "\n",
    "movie_cpi = df[\"annual average cpi (CPI-U)\"].iloc[0]\n",
    "newest_cpi = df[\"annual average cpi (CPI-U)\"].iloc[-1]\n",
    "median_sale = inflation_change(415_004_880, movie_cpi, newest_cpi)\n",
    "rounded_2 = f'{median_sale:,.0f}'\n",
    "print(f'Movie ticket sales from 1995 are worth ${rounded_2} in 2023,')\n"
   ]
  },
  {
   "cell_type": "markdown",
   "id": "3228ebc6",
   "metadata": {},
   "source": [
    "# NOT SURE HOW ACCURATE THE ABOVE CALCULATIONS ARE...\n",
    " ``` FROM $415 million to $12 billion seems like a massive jump.. my previous calculations led me to $63 Million.. Which also did not seem accurate```"
   ]
  },
  {
   "cell_type": "code",
   "execution_count": 21,
   "id": "b8c5b4fa",
   "metadata": {},
   "outputs": [
    {
     "data": {
      "text/plain": [
       "Index(['release_year', 'title', 'rating', 'studio', 'release_year_total',\n",
       "       'release_yr_tickets', 'cpi'],\n",
       "      dtype='object')"
      ]
     },
     "execution_count": 21,
     "metadata": {},
     "output_type": "execute_result"
    }
   ],
   "source": [
    "movie_df.columns"
   ]
  },
  {
   "cell_type": "markdown",
   "id": "31777505",
   "metadata": {},
   "source": [
    "# Q. 5 Multiple values at one time\n",
    "\n",
    "Calculate the sum, mean, median, max and min for ticket sales, revenue year it was released and inflation adjusted revenue\n",
    "\n",
    "\n"
   ]
  },
  {
   "cell_type": "markdown",
   "id": "5b9ef090",
   "metadata": {},
   "source": [
    "# This one clearly also isn't right... I can't figure out what I am doing wrong :/"
   ]
  },
  {
   "cell_type": "code",
   "execution_count": 32,
   "id": "54f78490",
   "metadata": {},
   "outputs": [
    {
     "data": {
      "text/html": [
       "<div>\n",
       "<style scoped>\n",
       "    .dataframe tbody tr th:only-of-type {\n",
       "        vertical-align: middle;\n",
       "    }\n",
       "\n",
       "    .dataframe tbody tr th {\n",
       "        vertical-align: top;\n",
       "    }\n",
       "\n",
       "    .dataframe thead th {\n",
       "        text-align: right;\n",
       "    }\n",
       "</style>\n",
       "<table border=\"1\" class=\"dataframe\">\n",
       "  <thead>\n",
       "    <tr style=\"text-align: right;\">\n",
       "      <th></th>\n",
       "      <th>release_year_total</th>\n",
       "      <th>release_year</th>\n",
       "      <th>cpi</th>\n",
       "    </tr>\n",
       "  </thead>\n",
       "  <tbody>\n",
       "    <tr>\n",
       "      <th>sum</th>\n",
       "      <td>13069964000</td>\n",
       "      <td>58261</td>\n",
       "      <td>6233.908</td>\n",
       "    </tr>\n",
       "    <tr>\n",
       "      <th>max</th>\n",
       "      <td>858373000</td>\n",
       "      <td>2023</td>\n",
       "      <td>304.700</td>\n",
       "    </tr>\n",
       "    <tr>\n",
       "      <th>min</th>\n",
       "      <td>184031112</td>\n",
       "      <td>1995</td>\n",
       "      <td>152.400</td>\n",
       "    </tr>\n",
       "  </tbody>\n",
       "</table>\n",
       "</div>"
      ],
      "text/plain": [
       "     release_year_total  release_year       cpi\n",
       "sum         13069964000         58261  6233.908\n",
       "max           858373000          2023   304.700\n",
       "min           184031112          1995   152.400"
      ]
     },
     "execution_count": 32,
     "metadata": {},
     "output_type": "execute_result"
    }
   ],
   "source": [
    "movie_df[[\"release_year_total\", \"release_year\", \"cpi\"]].agg([sum, max, min, ])\n"
   ]
  }
 ],
 "metadata": {
  "kernelspec": {
   "display_name": "Python 3 (ipykernel)",
   "language": "python",
   "name": "python3"
  },
  "language_info": {
   "codemirror_mode": {
    "name": "ipython",
    "version": 3
   },
   "file_extension": ".py",
   "mimetype": "text/x-python",
   "name": "python",
   "nbconvert_exporter": "python",
   "pygments_lexer": "ipython3",
   "version": "3.11.5"
  }
 },
 "nbformat": 4,
 "nbformat_minor": 5
}
